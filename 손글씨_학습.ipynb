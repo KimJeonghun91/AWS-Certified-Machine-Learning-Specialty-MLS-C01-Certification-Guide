{
  "cells": [
    {
      "cell_type": "markdown",
      "metadata": {
        "id": "view-in-github",
        "colab_type": "text"
      },
      "source": [
        "<a href=\"https://colab.research.google.com/github/KimJeonghun91/AWS-Certified-Machine-Learning-Specialty-MLS-C01-Certification-Guide/blob/master/%EC%86%90%EA%B8%80%EC%94%A8_%ED%95%99%EC%8A%B5.ipynb\" target=\"_parent\"><img src=\"https://colab.research.google.com/assets/colab-badge.svg\" alt=\"Open In Colab\"/></a>"
      ]
    },
    {
      "cell_type": "markdown",
      "metadata": {
        "id": "J0EwfUpzbGeW"
      },
      "source": [
        "- 필요 라이브러리 추가"
      ]
    },
    {
      "cell_type": "code",
      "execution_count": null,
      "metadata": {
        "id": "7hK13lbWbEwu"
      },
      "outputs": [],
      "source": [
        "import sys\n",
        "import tensorflow as tf\n",
        "import keras\n",
        "from keras.utils import np_utils\n",
        "from keras.datasets import mnist\n",
        "from keras.models import Sequential\n",
        "from keras.layers import Dense, Activation, Dropout, Flatten\n",
        "from keras.layers.convolutional import Conv2D, MaxPooling2D\n",
        "from tensorflow.keras import backend\n",
        "import pandas as pd\n",
        "import numpy as np\n",
        "%matplotlib inline\n",
        "import matplotlib.pyplot as plt"
      ]
    },
    {
      "cell_type": "markdown",
      "metadata": {
        "id": "Q5g7UYrucN71"
      },
      "source": [
        "- Keras 에서 데이터를 가져옴\n",
        "- Train set : 실제 인공지능을 학습시키는 데이터.\n",
        "- Test set : 테스트를 위한 Train set에 존재하지 않는 데이터\n",
        "\n",
        "![Sets-1.png](data:image/png;base64,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)"
      ]
    },
    {
      "cell_type": "code",
      "execution_count": null,
      "metadata": {
        "colab": {
          "base_uri": "https://localhost:8080/"
        },
        "id": "jeROjneVccjq",
        "outputId": "2fd396f2-053e-4aaf-c291-55782ce09a33"
      },
      "outputs": [
        {
          "name": "stdout",
          "output_type": "stream",
          "text": [
            "Downloading data from https://storage.googleapis.com/tensorflow/tf-keras-datasets/mnist.npz\n",
            "11493376/11490434 [==============================] - 0s 0us/step\n",
            "11501568/11490434 [==============================] - 0s 0us/step\n",
            "X_train 갯수: 60000\n",
            "Y_train 갯수: 60000\n"
          ]
        }
      ],
      "source": [
        "# Mnist 데이터셋 불러오기\n",
        "# X_train : 값 , Y_train : 라벨\n",
        "(X_train, Y_train), (X_test, Y_test) = mnist.load_data()\n",
        "\n",
        "#Train set 과 Test set 정리하기\n",
        "input_shape = (28, 28, 1)\n",
        "X_train = X_train.reshape(X_train.shape[0], 28, 28, 1)\n",
        "X_test = X_test.reshape(X_test.shape[0], 28, 28, 1)\n",
        "\n",
        "X_train = X_train.astype('float32') / 255.\n",
        "X_test = X_test.astype('float32') / 255.\n",
        "\n",
        "Y_train = keras.utils.np_utils.to_categorical(Y_train, 10)\n",
        "Y_test = keras.utils.np_utils.to_categorical(Y_test, 10)\n",
        "\n",
        "print('X_train 갯수:', X_train.shape[0])\n",
        "print('Y_train 갯수:', Y_train.shape[0])"
      ]
    },
    {
      "cell_type": "markdown",
      "metadata": {
        "id": "rPE1zfPC3zSI"
      },
      "source": [
        "- epochs : 학습 횟수\n",
        "-  batch_size : 학습 데이터 그룹 크기 -> 전체 트레이닝 셋을 작게 나누는 이유는 트레이닝 데이터를 통째로 신경망에 넣으면 비효율적\n",
        "\n"
      ]
    },
    {
      "cell_type": "code",
      "execution_count": null,
      "metadata": {
        "colab": {
          "base_uri": "https://localhost:8080/"
        },
        "id": "UJw8P6kiMPxH",
        "outputId": "84772f5a-5b80-41c4-d6d7-299b5727f0f6"
      },
      "outputs": [
        {
          "name": "stdout",
          "output_type": "stream",
          "text": [
            "Model: \"sequential\"\n",
            "_________________________________________________________________\n",
            " Layer (type)                Output Shape              Param #   \n",
            "=================================================================\n",
            " conv2d (Conv2D)             (None, 28, 28, 32)        832       \n",
            "                                                                 \n",
            " max_pooling2d (MaxPooling2D  (None, 14, 14, 32)       0         \n",
            " )                                                               \n",
            "                                                                 \n",
            " conv2d_1 (Conv2D)           (None, 14, 14, 64)        8256      \n",
            "                                                                 \n",
            " max_pooling2d_1 (MaxPooling  (None, 7, 7, 64)         0         \n",
            " 2D)                                                             \n",
            "                                                                 \n",
            " dropout (Dropout)           (None, 7, 7, 64)          0         \n",
            "                                                                 \n",
            " flatten (Flatten)           (None, 3136)              0         \n",
            "                                                                 \n",
            " dense (Dense)               (None, 64)                200768    \n",
            "                                                                 \n",
            " dropout_1 (Dropout)         (None, 64)                0         \n",
            "                                                                 \n",
            " dense_1 (Dense)             (None, 10)                650       \n",
            "                                                                 \n",
            "=================================================================\n",
            "Total params: 210,506\n",
            "Trainable params: 210,506\n",
            "Non-trainable params: 0\n",
            "_________________________________________________________________\n",
            "Epoch 1/3\n",
            "469/469 [==============================] - 60s 125ms/step - loss: 0.4040 - accuracy: 0.8720 - val_loss: 0.0692 - val_accuracy: 0.9792\n",
            "Epoch 2/3\n",
            "469/469 [==============================] - 58s 123ms/step - loss: 0.1469 - accuracy: 0.9572 - val_loss: 0.0466 - val_accuracy: 0.9847\n",
            "Epoch 3/3\n",
            "469/469 [==============================] - 56s 119ms/step - loss: 0.1138 - accuracy: 0.9668 - val_loss: 0.0375 - val_accuracy: 0.9873\n"
          ]
        }
      ],
      "source": [
        "#CNN 모델 만들기\n",
        "model = Sequential()\n",
        "model.add(Conv2D(32, kernel_size=(5, 5), strides=(1, 1), padding='same',\n",
        "                 activation='relu',\n",
        "                 input_shape=input_shape))\n",
        "model.add(MaxPooling2D(pool_size=(2, 2), strides=(2, 2)))\n",
        "model.add(Conv2D(64, (2, 2), activation='relu', padding='same'))\n",
        "model.add(MaxPooling2D(pool_size=(2, 2)))\n",
        "model.add(Dropout(0.25))\n",
        "model.add(Flatten())\n",
        "model.add(Dense(64, activation='relu'))\n",
        "model.add(Dropout(0.5))\n",
        "model.add(Dense(10, activation='softmax'))\n",
        "model.summary()\n",
        "\n",
        "# CNN 모델 학습하기\n",
        "model.compile(loss='categorical_crossentropy', optimizer='adam', metrics=['accuracy'])\n",
        "hist = model.fit(X_train, Y_train,\n",
        "                 batch_size=128,\n",
        "                 epochs=3,\n",
        "                 verbose=1,\n",
        "                 validation_data=(X_test, Y_test))"
      ]
    },
    {
      "cell_type": "markdown",
      "metadata": {
        "id": "TnILx2EOrK0V"
      },
      "source": [
        "\n",
        "- 학습 데이터 테스트\n",
        "- 학습 데이터의 손실률 : 손실(Loss)은 실제 정답과 모델이 예측 한 값 사이의 차이(거리 또는 오차)이다. 즉, 손실이 클수록 데이터에 대한 오류도 커진다. 쉽게 말해, 틀리게 예측한 경우 얼마나 오류를 범했는가로 볼 수 있다\n",
        "- 학습 데이터의 정확도 : Accuracy는 전체 샘플의 개수들 중에서 얼마나 나의 알고리즘이 정답이라고 예측한 샘플이 포함되었는지의 비율을 의미한다. 예를 들어서, 내 알고리즘이 90% 정확하다면, 100개의 샘플들 중에서 90개만 정확하게 분류 하는 것이다. "
      ]
    },
    {
      "cell_type": "code",
      "execution_count": null,
      "metadata": {
        "colab": {
          "base_uri": "https://localhost:8080/",
          "height": 578
        },
        "id": "m2_J3qgQrMaS",
        "outputId": "0ddd2cf1-0430-4258-cb35-0eb033141988"
      },
      "outputs": [
        {
          "name": "stdout",
          "output_type": "stream",
          "text": [
            "313/313 [==============================] - 3s 10ms/step - loss: 0.0375 - accuracy: 0.9873\n",
            "loss_and_metrics : [0.037514735013246536, 0.9872999787330627]\n"
          ]
        },
        {
          "data": {
            "image/png": "[encoded data removed]",
            "text/plain": [
              "<Figure size 432x288 with 1 Axes>"
            ]
          },
          "metadata": {},
          "output_type": "display_data"
        },
        {
          "data": {
            "image/png": "[encoded data removed]",
            "text/plain": [
              "<Figure size 432x288 with 1 Axes>"
            ]
          },
          "metadata": {},
          "output_type": "display_data"
        }
      ],
      "source": [
        "# Test\n",
        "loss_and_metrics = model.evaluate(X_test, Y_test, batch_size=32)\n",
        "print('loss_and_metrics : ' + str(loss_and_metrics))\n",
        "\n",
        "#loss graph (손실률) 표로 그리기\n",
        "fig, loss_ax = plt.subplots()\n",
        "\n",
        "loss_ax.plot(hist.history['loss'], 'b', label='train loss')\n",
        "loss_ax.plot(hist.history['val_loss'], 'r', label='test loss')\n",
        "\n",
        "loss_ax.set_xlabel('epoch')\n",
        "loss_ax.set_ylabel('loss')\n",
        "\n",
        "loss_ax.legend(loc='upper right')\n",
        "\n",
        "plt.show()\n",
        "\n",
        "#Accuracy graph (정확도) 표로 그리기\n",
        "fig, loss_ax = plt.subplots()\n",
        "\n",
        "loss_ax.plot(hist.history['accuracy'], 'b', label='train accuracy')\n",
        "loss_ax.plot(hist.history['val_accuracy'], 'r', label='test accuracy')\n",
        "\n",
        "loss_ax.set_xlabel('epoch')\n",
        "loss_ax.set_ylabel('accuracy')\n",
        "\n",
        "loss_ax.legend(loc='upper right')\n",
        "\n",
        "plt.show()"
      ]
    },
    {
      "cell_type": "code",
      "execution_count": null,
      "metadata": {
        "colab": {
          "background_save": true,
          "base_uri": "https://localhost:8080/",
          "height": 39,
          "resources": {
            "http://localhost:8080/nbextensions/google.colab/files.js": {
              "data": "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",
              "headers": [
                [
                  "content-type",
                  "application/javascript"
                ]
              ],
              "ok": true,
              "status": 200,
              "status_text": ""
            }
          }
        },
        "id": "WdtqdOCqRZmu",
        "outputId": "98674377-6d1e-4986-e877-cc593ad27d7b"
      },
      "outputs": [
        {
          "data": {
            "text/html": [
              "\n",
              "     <input type=\"file\" id=\"files-11bf9e7f-260b-41ec-9ae6-91f5ff95405c\" name=\"files[]\" multiple disabled\n",
              "        style=\"border:none\" />\n",
              "     <output id=\"result-11bf9e7f-260b-41ec-9ae6-91f5ff95405c\">\n",
              "      Upload widget is only available when the cell has been executed in the\n",
              "      current browser session. Please rerun this cell to enable.\n",
              "      </output>\n",
              "      <script src=\"/nbextensions/google.colab/files.js\"></script> "
            ],
            "text/plain": [
              "<IPython.core.display.HTML object>"
            ]
          },
          "metadata": {},
          "output_type": "display_data"
        }
      ],
      "source": [
        "# OpenCV 라이브러리\n",
        "import cv2\n",
        "from google.colab.patches import cv2_imshow\n",
        "\n",
        "# 파일 업로드 기능\n",
        "from google.colab import files\n",
        "uploaded = files.upload()\n",
        "\n",
        "# 혹은 구글드라이브 연결\n",
        "# from google.colab import drive\n",
        "# drive.mount('/content/drive')\n",
        "\n",
        "for fn in uploaded.keys():\n",
        "  # 파일열기\n",
        "  img = cv2.imread(fn,  cv2.IMREAD_GRAYSCALE)\n",
        "  cv2_imshow(img)\n",
        "\n",
        "  # 손글씨 사진 크기 조절하기\n",
        "  img = cv2.resize(255-img, (28, 28))\n",
        "  img.shape\n",
        "\n",
        "  test_num = img.flatten()/255.0\n",
        "  test_num = test_num.reshape((-1, 28, 28, 1))\n",
        "  test_num.shape\n",
        "\n",
        "\n",
        "  print('The answer is ', np.argmax(model.predict(test_num), axis=-1))\n",
        "  plt.show()"
      ]
    }
  ],
  "metadata": {
    "colab": {
      "collapsed_sections": [],
      "provenance": [],
      "authorship_tag": "ABX9TyOuvwznpiL+BMunsnluBhOn",
      "include_colab_link": true
    },
    "kernelspec": {
      "display_name": "Python 3",
      "name": "python3"
    },
    "language_info": {
      "name": "python"
    }
  },
  "nbformat": 4,
  "nbformat_minor": 0
}